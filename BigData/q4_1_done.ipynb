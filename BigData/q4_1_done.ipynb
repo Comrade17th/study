{
  "nbformat": 4,
  "nbformat_minor": 0,
  "metadata": {
    "colab": {
      "provenance": [],
      "collapsed_sections": [],
      "authorship_tag": "ABX9TyPDexyuWoAS0+8Q0NtqXWo4",
      "include_colab_link": true
    },
    "kernelspec": {
      "name": "python3",
      "display_name": "Python 3"
    },
    "language_info": {
      "name": "python"
    }
  },
  "cells": [
    {
      "cell_type": "markdown",
      "metadata": {
        "id": "view-in-github",
        "colab_type": "text"
      },
      "source": [
        "<a href=\"https://colab.research.google.com/github/Comrade17th/study/blob/develop/BigData/q4_1_done.ipynb\" target=\"_parent\"><img src=\"https://colab.research.google.com/assets/colab-badge.svg\" alt=\"Open In Colab\"/></a>"
      ]
    },
    {
      "cell_type": "code",
      "execution_count": 36,
      "metadata": {
        "colab": {
          "base_uri": "https://localhost:8080/"
        },
        "id": "-nZUeWMrJdAH",
        "outputId": "4af85c2c-e848-4935-b6be-ca5c1c1698ce"
      },
      "outputs": [
        {
          "output_type": "execute_result",
          "data": {
            "text/plain": [
              "17"
            ]
          },
          "metadata": {},
          "execution_count": 36
        }
      ],
      "source": [
        "import pandas as pd\n",
        "#1. В таблице Customers.csv\n",
        "# посчитайте количество клиентов, чья должность - Owner.\n",
        "df_c = pd.read_csv('Customers.csv', sep = ';')\n",
        "len(df_c[df_c['ContactTitle']=='Owner'])"
      ]
    },
    {
      "cell_type": "code",
      "source": [
        "# посчитайте количество клиентов, чьи имена начинаются на латинскую\n",
        "#букву A. Сколько таких клиентов?\n",
        "len(df_c[df_c['ContactName'].str.match('A')])"
      ],
      "metadata": {
        "colab": {
          "base_uri": "https://localhost:8080/"
        },
        "id": "YUz8u8gtJfgi",
        "outputId": "abecea83-02dc-40a1-b539-4c043dc64ae4"
      },
      "execution_count": 38,
      "outputs": [
        {
          "output_type": "execute_result",
          "data": {
            "text/plain": [
              "10"
            ]
          },
          "metadata": {},
          "execution_count": 38
        }
      ]
    },
    {
      "cell_type": "code",
      "source": [
        "# выведите клиентов, чьи номера телефонов содержат 5555 (четыре\n",
        "#символа 5 подряд). Четыре пятерки подряд могут быть в начале номера,\n",
        "#в середине или в конце. Сколько таких клиентов?\n",
        "print(len(df_c[df_c['Phone'].str.contains('5555')]))\n",
        "df_c[df_c['Phone'].str.contains('5555')]"
      ],
      "metadata": {
        "colab": {
          "base_uri": "https://localhost:8080/",
          "height": 129
        },
        "id": "4LLul6gFStrj",
        "outputId": "98ccee8a-4c67-4d32-bd93-56cecd6c61d2"
      },
      "execution_count": 42,
      "outputs": [
        {
          "output_type": "stream",
          "name": "stdout",
          "text": [
            "2\n"
          ]
        },
        {
          "output_type": "execute_result",
          "data": {
            "text/plain": [
              "   CustomerID       ContactName          ContactTitle         Phone  \\\n",
              "11      CACTU  Patricio Simpson           Sales Agent  (1) 135-5555   \n",
              "63      RANCH  Sergio Gutierrez  Sales Representative  (1) 123-5555   \n",
              "\n",
              "                   Address  \n",
              "11             Cerrito 333  \n",
              "63  Av. del Libertador 900  "
            ],
            "text/html": [
              "\n",
              "  <div id=\"df-93c93665-9c36-4ef4-85d2-688df80e94b0\">\n",
              "    <div class=\"colab-df-container\">\n",
              "      <div>\n",
              "<style scoped>\n",
              "    .dataframe tbody tr th:only-of-type {\n",
              "        vertical-align: middle;\n",
              "    }\n",
              "\n",
              "    .dataframe tbody tr th {\n",
              "        vertical-align: top;\n",
              "    }\n",
              "\n",
              "    .dataframe thead th {\n",
              "        text-align: right;\n",
              "    }\n",
              "</style>\n",
              "<table border=\"1\" class=\"dataframe\">\n",
              "  <thead>\n",
              "    <tr style=\"text-align: right;\">\n",
              "      <th></th>\n",
              "      <th>CustomerID</th>\n",
              "      <th>ContactName</th>\n",
              "      <th>ContactTitle</th>\n",
              "      <th>Phone</th>\n",
              "      <th>Address</th>\n",
              "    </tr>\n",
              "  </thead>\n",
              "  <tbody>\n",
              "    <tr>\n",
              "      <th>11</th>\n",
              "      <td>CACTU</td>\n",
              "      <td>Patricio Simpson</td>\n",
              "      <td>Sales Agent</td>\n",
              "      <td>(1) 135-5555</td>\n",
              "      <td>Cerrito 333</td>\n",
              "    </tr>\n",
              "    <tr>\n",
              "      <th>63</th>\n",
              "      <td>RANCH</td>\n",
              "      <td>Sergio Gutierrez</td>\n",
              "      <td>Sales Representative</td>\n",
              "      <td>(1) 123-5555</td>\n",
              "      <td>Av. del Libertador 900</td>\n",
              "    </tr>\n",
              "  </tbody>\n",
              "</table>\n",
              "</div>\n",
              "      <button class=\"colab-df-convert\" onclick=\"convertToInteractive('df-93c93665-9c36-4ef4-85d2-688df80e94b0')\"\n",
              "              title=\"Convert this dataframe to an interactive table.\"\n",
              "              style=\"display:none;\">\n",
              "        \n",
              "  <svg xmlns=\"http://www.w3.org/2000/svg\" height=\"24px\"viewBox=\"0 0 24 24\"\n",
              "       width=\"24px\">\n",
              "    <path d=\"M0 0h24v24H0V0z\" fill=\"none\"/>\n",
              "    <path d=\"M18.56 5.44l.94 2.06.94-2.06 2.06-.94-2.06-.94-.94-2.06-.94 2.06-2.06.94zm-11 1L8.5 8.5l.94-2.06 2.06-.94-2.06-.94L8.5 2.5l-.94 2.06-2.06.94zm10 10l.94 2.06.94-2.06 2.06-.94-2.06-.94-.94-2.06-.94 2.06-2.06.94z\"/><path d=\"M17.41 7.96l-1.37-1.37c-.4-.4-.92-.59-1.43-.59-.52 0-1.04.2-1.43.59L10.3 9.45l-7.72 7.72c-.78.78-.78 2.05 0 2.83L4 21.41c.39.39.9.59 1.41.59.51 0 1.02-.2 1.41-.59l7.78-7.78 2.81-2.81c.8-.78.8-2.07 0-2.86zM5.41 20L4 18.59l7.72-7.72 1.47 1.35L5.41 20z\"/>\n",
              "  </svg>\n",
              "      </button>\n",
              "      \n",
              "  <style>\n",
              "    .colab-df-container {\n",
              "      display:flex;\n",
              "      flex-wrap:wrap;\n",
              "      gap: 12px;\n",
              "    }\n",
              "\n",
              "    .colab-df-convert {\n",
              "      background-color: #E8F0FE;\n",
              "      border: none;\n",
              "      border-radius: 50%;\n",
              "      cursor: pointer;\n",
              "      display: none;\n",
              "      fill: #1967D2;\n",
              "      height: 32px;\n",
              "      padding: 0 0 0 0;\n",
              "      width: 32px;\n",
              "    }\n",
              "\n",
              "    .colab-df-convert:hover {\n",
              "      background-color: #E2EBFA;\n",
              "      box-shadow: 0px 1px 2px rgba(60, 64, 67, 0.3), 0px 1px 3px 1px rgba(60, 64, 67, 0.15);\n",
              "      fill: #174EA6;\n",
              "    }\n",
              "\n",
              "    [theme=dark] .colab-df-convert {\n",
              "      background-color: #3B4455;\n",
              "      fill: #D2E3FC;\n",
              "    }\n",
              "\n",
              "    [theme=dark] .colab-df-convert:hover {\n",
              "      background-color: #434B5C;\n",
              "      box-shadow: 0px 1px 3px 1px rgba(0, 0, 0, 0.15);\n",
              "      filter: drop-shadow(0px 1px 2px rgba(0, 0, 0, 0.3));\n",
              "      fill: #FFFFFF;\n",
              "    }\n",
              "  </style>\n",
              "\n",
              "      <script>\n",
              "        const buttonEl =\n",
              "          document.querySelector('#df-93c93665-9c36-4ef4-85d2-688df80e94b0 button.colab-df-convert');\n",
              "        buttonEl.style.display =\n",
              "          google.colab.kernel.accessAllowed ? 'block' : 'none';\n",
              "\n",
              "        async function convertToInteractive(key) {\n",
              "          const element = document.querySelector('#df-93c93665-9c36-4ef4-85d2-688df80e94b0');\n",
              "          const dataTable =\n",
              "            await google.colab.kernel.invokeFunction('convertToInteractive',\n",
              "                                                     [key], {});\n",
              "          if (!dataTable) return;\n",
              "\n",
              "          const docLinkHtml = 'Like what you see? Visit the ' +\n",
              "            '<a target=\"_blank\" href=https://colab.research.google.com/notebooks/data_table.ipynb>data table notebook</a>'\n",
              "            + ' to learn more about interactive tables.';\n",
              "          element.innerHTML = '';\n",
              "          dataTable['output_type'] = 'display_data';\n",
              "          await google.colab.output.renderOutput(dataTable, element);\n",
              "          const docLink = document.createElement('div');\n",
              "          docLink.innerHTML = docLinkHtml;\n",
              "          element.appendChild(docLink);\n",
              "        }\n",
              "      </script>\n",
              "    </div>\n",
              "  </div>\n",
              "  "
            ]
          },
          "metadata": {},
          "execution_count": 42
        }
      ]
    },
    {
      "cell_type": "code",
      "source": [
        "# посчитайте количество клиентов, у которых должность Owner или Sales\n",
        "#Representative. Сколько таких клиентов?\n",
        "len(df_c[(df_c['ContactTitle']== 'Owner')|(df_c['ContactTitle']=='Sales Representative')])\n",
        "#df_c.groupby([df_c['ContactTitle']]).ContactTitle.count()"
      ],
      "metadata": {
        "colab": {
          "base_uri": "https://localhost:8080/"
        },
        "id": "5aph4MQwTIo3",
        "outputId": "8fba4ae1-3fba-4e56-f72e-3f7a56eb48f7"
      },
      "execution_count": 51,
      "outputs": [
        {
          "output_type": "execute_result",
          "data": {
            "text/plain": [
              "34"
            ]
          },
          "metadata": {},
          "execution_count": 51
        }
      ]
    },
    {
      "cell_type": "code",
      "source": [
        "df_c.groupby('ContactTitle').ContactTitle.count()\n",
        "\n",
        "# посчитайте в разрезе должностей количество клиентов. Иными словами,\n",
        "#сгруппируйте должности и посчитайте количество клиентов.\n",
        "#Сопоставьте должность и количество клиентов"
      ],
      "metadata": {
        "colab": {
          "base_uri": "https://localhost:8080/"
        },
        "id": "Zh0dX3epR1Bh",
        "outputId": "fc1e1be9-d87f-4164-fcac-1bf08116fc6c"
      },
      "execution_count": 53,
      "outputs": [
        {
          "output_type": "execute_result",
          "data": {
            "text/plain": [
              "ContactTitle\n",
              "Accounting Manager                10\n",
              "Assistant Sales Agent              2\n",
              "Assistant Sales Representative     1\n",
              "Marketing Assistant                6\n",
              "Marketing Manager                 12\n",
              "Order Administrator                2\n",
              "Owner                             17\n",
              "Owner/Marketing Assistant          1\n",
              "Sales Agent                        5\n",
              "Sales Associate                    7\n",
              "Sales Manager                     11\n",
              "Sales Representative              17\n",
              "Name: ContactTitle, dtype: int64"
            ]
          },
          "metadata": {},
          "execution_count": 53
        }
      ]
    }
  ]
}